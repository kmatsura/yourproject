{
 "cells": [
  {
   "cell_type": "code",
   "execution_count": 6,
   "metadata": {},
   "outputs": [],
   "source": [
    "import datetime"
   ]
  },
  {
   "cell_type": "code",
   "execution_count": 38,
   "metadata": {},
   "outputs": [],
   "source": [
    "def register_work(work_list):\n",
    "    dt = str(datetime.datetime.now())\n",
    "    print(\"作業内容を入力してください。\")\n",
    "    work = input()\n",
    "    print(\"備考を入力してください。\")\n",
    "    bikou = input()\n",
    "    print(\"こちらでよろしいですか？(y/n)\")\n",
    "    print(\"-\" * 50)\n",
    "    print(\"作業日：\" + dt[:10])\n",
    "    print(\"作業内容：\" + work)\n",
    "    print(\"備考：\" + bikou)\n",
    "    print(\"-\" * 50)\n",
    "    k = 0\n",
    "    while k == 0:\n",
    "        i = input()\n",
    "        if i == \"y\":\n",
    "            work_list.append([dt[:10], work, bikou])\n",
    "            k = 1\n",
    "        elif i == \"n\":\n",
    "            print(\"入力を消去します\")\n",
    "            k = 1\n",
    "        else:\n",
    "            print(\"yまたはnを入力してください。\")\n",
    "            \n",
    "\n",
    "            \n",
    "def output_work(work_list):\n",
    "    dt = str(datetime.datetime.now())\n",
    "    print(\"清掃報告書\")\n",
    "    print(\"-\"*50)\n",
    "    print(\"日時：\" + dt[:10])\n",
    "    print(\"文責：松浦健悟\")\n",
    "    print(\"-\"*50)\n",
    "    print(\"=\"*30)\n",
    "    print(\"作業報告\")\n",
    "    print(\"=\"*30)\n",
    "    for i in range(len(work_list)):\n",
    "        print(\"作業日：\" + work_list[i][0])\n",
    "        print(\"作業内容\" + work_list[i][1])\n",
    "        print(\"備考\" + work_list[i][2])\n",
    "        print(\"-\"*30)\n",
    "\n",
    "        \n",
    "def write_data_to_txt(filename):\n",
    "    file = open(filename, 'w')\n",
    "    for i in range(len(work_list)):\n",
    "        for j in range(3):\n",
    "            file.write(work_list[i][j] + \" \")\n",
    "        file.writelines(\"\\n\")\n",
    "    file.close()"
   ]
  },
  {
   "cell_type": "code",
   "execution_count": 39,
   "metadata": {},
   "outputs": [
    {
     "data": {
      "text/plain": [
       "'2019-11-20'"
      ]
     },
     "execution_count": 39,
     "metadata": {},
     "output_type": "execute_result"
    }
   ],
   "source": [
    "dt[:10]"
   ]
  },
  {
   "cell_type": "code",
   "execution_count": 45,
   "metadata": {},
   "outputs": [
    {
     "name": "stdout",
     "output_type": "stream",
     "text": [
      "作業内容を入力してください。\n"
     ]
    },
    {
     "name": "stdin",
     "output_type": "stream",
     "text": [
      " aa\n"
     ]
    },
    {
     "name": "stdout",
     "output_type": "stream",
     "text": [
      "備考を入力してください。\n"
     ]
    },
    {
     "name": "stdin",
     "output_type": "stream",
     "text": [
      " aa\n"
     ]
    },
    {
     "name": "stdout",
     "output_type": "stream",
     "text": [
      "こちらでよろしいですか？(y/n)\n",
      "--------------------------------------------------\n",
      "作業日：2019-11-20\n",
      "作業内容：aa\n",
      "備考：aa\n",
      "--------------------------------------------------\n"
     ]
    },
    {
     "name": "stdin",
     "output_type": "stream",
     "text": [
      " y\n"
     ]
    }
   ],
   "source": [
    "register_work(work_list)"
   ]
  },
  {
   "cell_type": "code",
   "execution_count": 43,
   "metadata": {},
   "outputs": [
    {
     "data": {
      "text/plain": [
       "[['2019-11-20', 'test', 'てすと']]"
      ]
     },
     "execution_count": 43,
     "metadata": {},
     "output_type": "execute_result"
    }
   ],
   "source": [
    "work_list"
   ]
  },
  {
   "cell_type": "code",
   "execution_count": 48,
   "metadata": {},
   "outputs": [],
   "source": [
    "def write_data_to_txt(filename):\n",
    "    file = open(filename, 'w')\n",
    "    for i in range(len(work_list)):\n",
    "        for j in range(3):\n",
    "            file.write(work_list[i][j] + \" \")\n",
    "        file.writelines(\"\\n\")\n",
    "    file.close()"
   ]
  },
  {
   "cell_type": "code",
   "execution_count": null,
   "metadata": {},
   "outputs": [],
   "source": []
  }
 ],
 "metadata": {
  "kernelspec": {
   "display_name": "Python 3",
   "language": "python",
   "name": "python3"
  },
  "language_info": {
   "codemirror_mode": {
    "name": "ipython",
    "version": 3
   },
   "file_extension": ".py",
   "mimetype": "text/x-python",
   "name": "python",
   "nbconvert_exporter": "python",
   "pygments_lexer": "ipython3",
   "version": "3.6.8"
  }
 },
 "nbformat": 4,
 "nbformat_minor": 4
}
