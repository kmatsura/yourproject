{
 "cells": [
  {
   "cell_type": "code",
   "execution_count": 3,
   "metadata": {},
   "outputs": [],
   "source": [
    "def make_table(row = 3, columns = [\"A\", \"B\", \"C\"]):\n",
    "    r = row\n",
    "    c = columns\n",
    "    \n",
    "    # columns\n",
    "    for i in range(len(c)):\n",
    "        print(\"| {}\".format(c[i]), end=\" \")\n",
    "    print(\"|\")\n",
    "    \n",
    "    # style\n",
    "    print(\"| ---- \" * len(c) + \"|\")\n",
    "    \n",
    "    # row\n",
    "    for i in range(r):\n",
    "        print(\"| {}\".format(i),end=\" \")\n",
    "        print(\"| \" * (len(c)-1) + \"|\")"
   ]
  },
  {
   "cell_type": "code",
   "execution_count": 4,
   "metadata": {},
   "outputs": [
    {
     "name": "stdout",
     "output_type": "stream",
     "text": [
      "| 数 | 二進数表現 |\n",
      "| ---- | ---- |\n",
      "| 0 | |\n",
      "| 1 | |\n",
      "| 2 | |\n",
      "| 3 | |\n",
      "| 4 | |\n",
      "| 5 | |\n",
      "| 6 | |\n",
      "| 7 | |\n"
     ]
    }
   ],
   "source": [
    "make_table(row=8, columns = [\"数\", \"二進数表現\"])"
   ]
  },
  {
   "cell_type": "code",
   "execution_count": null,
   "metadata": {},
   "outputs": [],
   "source": [
    "maketable"
   ]
  }
 ],
 "metadata": {
  "kernelspec": {
   "display_name": "Python 3",
   "language": "python",
   "name": "python3"
  },
  "language_info": {
   "codemirror_mode": {
    "name": "ipython",
    "version": 3
   },
   "file_extension": ".py",
   "mimetype": "text/x-python",
   "name": "python",
   "nbconvert_exporter": "python",
   "pygments_lexer": "ipython3",
   "version": "3.6.8"
  }
 },
 "nbformat": 4,
 "nbformat_minor": 4
}
