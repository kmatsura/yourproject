{
 "cells": [
  {
   "cell_type": "code",
   "execution_count": 26,
   "metadata": {},
   "outputs": [],
   "source": [
    "def make_table(row = 3, columns = [\"A\", \"B\", \"C\"]):\n",
    "    r = row\n",
    "    c = columns\n",
    "    \n",
    "    # columns\n",
    "    for i in range(len(c)):\n",
    "        print(\"| {}\".format(c[i]), end=\" \")\n",
    "    print(\"|\")\n",
    "    \n",
    "    # style\n",
    "    print(\"| ---- \" * len(c) + \"|\")\n",
    "    \n",
    "    # row\n",
    "    for i in range(r):\n",
    "        print(\"| {}\".format(i+1),end=\" \")\n",
    "        print(\"| \" * (len(c)-1) + \"|\")"
   ]
  },
  {
   "cell_type": "code",
   "execution_count": 27,
   "metadata": {},
   "outputs": [
    {
     "name": "stdout",
     "output_type": "stream",
     "text": [
      "| lesson | state |\n",
      "| ---- | ---- |\n",
      "| 1 | |\n",
      "| 2 | |\n",
      "| 3 | |\n",
      "| 4 | |\n",
      "| 5 | |\n",
      "| 6 | |\n",
      "| 7 | |\n",
      "| 8 | |\n",
      "| 9 | |\n",
      "| 10 | |\n",
      "| 11 | |\n",
      "| 12 | |\n",
      "| 13 | |\n",
      "| 14 | |\n",
      "| 15 | |\n",
      "| 16 | |\n",
      "| 17 | |\n",
      "| 18 | |\n",
      "| 19 | |\n",
      "| 20 | |\n",
      "| 21 | |\n",
      "| 22 | |\n",
      "| 23 | |\n",
      "| 24 | |\n",
      "| 25 | |\n",
      "| 26 | |\n",
      "| 27 | |\n",
      "| 28 | |\n",
      "| 29 | |\n",
      "| 30 | |\n",
      "| 31 | |\n",
      "| 32 | |\n",
      "| 33 | |\n",
      "| 34 | |\n"
     ]
    }
   ],
   "source": [
    "make_table(row=34, columns = [\"lesson\", \"state\"])"
   ]
  },
  {
   "cell_type": "code",
   "execution_count": null,
   "metadata": {},
   "outputs": [],
   "source": [
    "maketable"
   ]
  }
 ],
 "metadata": {
  "kernelspec": {
   "display_name": "Python 3",
   "language": "python",
   "name": "python3"
  },
  "language_info": {
   "codemirror_mode": {
    "name": "ipython",
    "version": 3
   },
   "file_extension": ".py",
   "mimetype": "text/x-python",
   "name": "python",
   "nbconvert_exporter": "python",
   "pygments_lexer": "ipython3",
   "version": "3.6.8"
  }
 },
 "nbformat": 4,
 "nbformat_minor": 4
}
