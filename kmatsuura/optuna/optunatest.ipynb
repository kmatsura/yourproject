{
  "nbformat": 4,
  "nbformat_minor": 0,
  "metadata": {
    "colab": {
      "name": "optunatest.ipynb",
      "provenance": [],
      "collapsed_sections": [],
      "toc_visible": true
    },
    "kernelspec": {
      "name": "python3",
      "display_name": "Python 3"
    },
    "accelerator": "GPU"
  },
  "cells": [
    {
      "cell_type": "markdown",
      "metadata": {
        "id": "D9Y14WbW_JiC",
        "colab_type": "text"
      },
      "source": [
        "# memo\n",
        "- suggestionの例\n",
        "  - trial.suggest_categorical('kernel', ['linear', 'poly', 'rbf'])\n",
        "  - trial.suggest_discrete_uniform('subsample', 0.1, 1.0, 0.1)\n",
        "  - trial.suggest_int('n_estimators', 50, 400)\n",
        "  - trial.suggest_loguniform('c', 1e-5, 1e2)\n",
        "  - trial.suggest_uniform('dropout_rate', 0, 1.0)"
      ]
    },
    {
      "cell_type": "markdown",
      "metadata": {
        "id": "-iNasDK_sy2P",
        "colab_type": "text"
      },
      "source": [
        "# import library"
      ]
    },
    {
      "cell_type": "code",
      "metadata": {
        "id": "oDs8H4cjsTUR",
        "colab_type": "code",
        "outputId": "eae10da2-5dc6-4e86-9fa3-6cc783af3227",
        "colab": {
          "base_uri": "https://localhost:8080/",
          "height": 952
        }
      },
      "source": [
        "!pip install optuna"
      ],
      "execution_count": 0,
      "outputs": [
        {
          "output_type": "stream",
          "text": [
            "Collecting optuna\n",
            "\u001b[?25l  Downloading https://files.pythonhosted.org/packages/f2/07/4d3241e24651ecff97e8c8e9fc42a6e1380adf2d113cd7e1aefa210e4d5e/optuna-1.1.0.tar.gz (135kB)\n",
            "\u001b[K     |████████████████████████████████| 143kB 3.2MB/s \n",
            "\u001b[?25hCollecting alembic\n",
            "\u001b[?25l  Downloading https://files.pythonhosted.org/packages/be/4e/9a6044bb78e8cb6d5846c07f8d3e976b7d5db845e5bd8c82c57f3ca91b0e/alembic-1.4.0.tar.gz (1.1MB)\n",
            "\u001b[K     |████████████████████████████████| 1.1MB 5.3MB/s \n",
            "\u001b[?25hCollecting cliff\n",
            "\u001b[?25l  Downloading https://files.pythonhosted.org/packages/55/2f/f1484035545a36de978c686b90a6d81c0b09a8e3002faf761737eef54cdc/cliff-2.18.0-py2.py3-none-any.whl (79kB)\n",
            "\u001b[K     |████████████████████████████████| 81kB 7.4MB/s \n",
            "\u001b[?25hCollecting colorlog\n",
            "  Downloading https://files.pythonhosted.org/packages/00/0d/22c73c2eccb21dd3498df7d22c0b1d4a30f5a5fb3feb64e1ce06bc247747/colorlog-4.1.0-py2.py3-none-any.whl\n",
            "Requirement already satisfied: numpy in /usr/local/lib/python3.6/dist-packages (from optuna) (1.17.5)\n",
            "Requirement already satisfied: scipy!=1.4.0 in /usr/local/lib/python3.6/dist-packages (from optuna) (1.4.1)\n",
            "Requirement already satisfied: sqlalchemy>=1.1.0 in /usr/local/lib/python3.6/dist-packages (from optuna) (1.3.13)\n",
            "Requirement already satisfied: tqdm in /usr/local/lib/python3.6/dist-packages (from optuna) (4.28.1)\n",
            "Requirement already satisfied: joblib in /usr/local/lib/python3.6/dist-packages (from optuna) (0.14.1)\n",
            "Collecting Mako\n",
            "\u001b[?25l  Downloading https://files.pythonhosted.org/packages/28/03/329b21f00243fc2d3815399413845dbbfb0745cff38a29d3597e97f8be58/Mako-1.1.1.tar.gz (468kB)\n",
            "\u001b[K     |████████████████████████████████| 471kB 10.9MB/s \n",
            "\u001b[?25hCollecting python-editor>=0.3\n",
            "  Downloading https://files.pythonhosted.org/packages/c6/d3/201fc3abe391bbae6606e6f1d598c15d367033332bd54352b12f35513717/python_editor-1.0.4-py3-none-any.whl\n",
            "Requirement already satisfied: python-dateutil in /usr/local/lib/python3.6/dist-packages (from alembic->optuna) (2.6.1)\n",
            "Collecting cmd2!=0.8.3,<0.9.0,>=0.8.0\n",
            "\u001b[?25l  Downloading https://files.pythonhosted.org/packages/e9/40/a71caa2aaff10c73612a7106e2d35f693e85b8cf6e37ab0774274bca3cf9/cmd2-0.8.9-py2.py3-none-any.whl (53kB)\n",
            "\u001b[K     |████████████████████████████████| 61kB 10.5MB/s \n",
            "\u001b[?25hRequirement already satisfied: six>=1.10.0 in /usr/local/lib/python3.6/dist-packages (from cliff->optuna) (1.12.0)\n",
            "Collecting pbr!=2.1.0,>=2.0.0\n",
            "\u001b[?25l  Downloading https://files.pythonhosted.org/packages/7a/db/a968fd7beb9fe06901c1841cb25c9ccb666ca1b9a19b114d1bbedf1126fc/pbr-5.4.4-py2.py3-none-any.whl (110kB)\n",
            "\u001b[K     |████████████████████████████████| 112kB 19.2MB/s \n",
            "\u001b[?25hRequirement already satisfied: PrettyTable<0.8,>=0.7.2 in /usr/local/lib/python3.6/dist-packages (from cliff->optuna) (0.7.2)\n",
            "Requirement already satisfied: PyYAML>=3.12 in /usr/local/lib/python3.6/dist-packages (from cliff->optuna) (3.13)\n",
            "Collecting stevedore>=1.20.0\n",
            "\u001b[?25l  Downloading https://files.pythonhosted.org/packages/e6/49/a35dd566626892d577e426dbe5ea424dd7fbe10645f2c1070dcba474eca9/stevedore-1.32.0-py2.py3-none-any.whl (43kB)\n",
            "\u001b[K     |████████████████████████████████| 51kB 10.1MB/s \n",
            "\u001b[?25hRequirement already satisfied: pyparsing>=2.1.0 in /usr/local/lib/python3.6/dist-packages (from cliff->optuna) (2.4.6)\n",
            "Requirement already satisfied: MarkupSafe>=0.9.2 in /usr/local/lib/python3.6/dist-packages (from Mako->alembic->optuna) (1.1.1)\n",
            "Requirement already satisfied: wcwidth; sys_platform != \"win32\" in /usr/local/lib/python3.6/dist-packages (from cmd2!=0.8.3,<0.9.0,>=0.8.0->cliff->optuna) (0.1.8)\n",
            "Collecting pyperclip\n",
            "  Downloading https://files.pythonhosted.org/packages/2d/0f/4eda562dffd085945d57c2d9a5da745cfb5228c02bc90f2c74bbac746243/pyperclip-1.7.0.tar.gz\n",
            "Building wheels for collected packages: optuna, alembic, Mako, pyperclip\n",
            "  Building wheel for optuna (setup.py) ... \u001b[?25l\u001b[?25hdone\n",
            "  Created wheel for optuna: filename=optuna-1.1.0-cp36-none-any.whl size=187322 sha256=5a1de232151f94e1c2e3468041166ccb1f2f4ccc1acbb6f7c47d2391b08eca1f\n",
            "  Stored in directory: /root/.cache/pip/wheels/b7/25/09/6beaa68d3d3b4ea39b892927d70199ca762b04c72705bcc59e\n",
            "  Building wheel for alembic (setup.py) ... \u001b[?25l\u001b[?25hdone\n",
            "  Created wheel for alembic: filename=alembic-1.4.0-py2.py3-none-any.whl size=157561 sha256=273ed93cd957c0ff79fd29aa000368e28eef59ad486f767b521ac775a0ea9f63\n",
            "  Stored in directory: /root/.cache/pip/wheels/26/5e/30/84097f2b9e8215a03af766c647ac6dbef8f2f522af31e8c192\n",
            "  Building wheel for Mako (setup.py) ... \u001b[?25l\u001b[?25hdone\n",
            "  Created wheel for Mako: filename=Mako-1.1.1-cp36-none-any.whl size=75410 sha256=205e5320c02953851a21893048d9fe13740392c7a04c31b30bb26a99fd8c2fa9\n",
            "  Stored in directory: /root/.cache/pip/wheels/ff/50/a9/0ddeed8679a1fb65bf4677cb9c92701828b2c1821e22ef72fd\n",
            "  Building wheel for pyperclip (setup.py) ... \u001b[?25l\u001b[?25hdone\n",
            "  Created wheel for pyperclip: filename=pyperclip-1.7.0-cp36-none-any.whl size=8359 sha256=1123c449b3cf60f70e2ee49971246b4751f4b7a7fef4a8dc1f4b9a9218cbb4fc\n",
            "  Stored in directory: /root/.cache/pip/wheels/92/f0/ac/2ba2972034e98971c3654ece337ac61e546bdeb34ca960dc8c\n",
            "Successfully built optuna alembic Mako pyperclip\n",
            "Installing collected packages: Mako, python-editor, alembic, pyperclip, cmd2, pbr, stevedore, cliff, colorlog, optuna\n",
            "Successfully installed Mako-1.1.1 alembic-1.4.0 cliff-2.18.0 cmd2-0.8.9 colorlog-4.1.0 optuna-1.1.0 pbr-5.4.4 pyperclip-1.7.0 python-editor-1.0.4 stevedore-1.32.0\n"
          ],
          "name": "stdout"
        }
      ]
    },
    {
      "cell_type": "code",
      "metadata": {
        "id": "unqFLMimsh8K",
        "colab_type": "code",
        "colab": {}
      },
      "source": [
        "import optuna\n",
        "import numpy as np\n",
        "import pandas as pd\n",
        "import matplotlib.pyplot as plt\n",
        "import glob, os, sys\n",
        "\n",
        "import warnings\n",
        "warnings.filterwarnings('ignore')\n",
        "from sklearn.model_selection import train_test_split\n",
        "from sklearn.ensemble import RandomForestRegressor\n",
        "from sklearn.datasets import load_boston\n",
        "from sklearn.metrics import mean_absolute_error,accuracy_score"
      ],
      "execution_count": 0,
      "outputs": []
    },
    {
      "cell_type": "code",
      "metadata": {
        "id": "m4BZVdxoDyBE",
        "colab_type": "code",
        "outputId": "1fb7ba8f-658d-42a8-d3ac-ba305ac69a33",
        "colab": {
          "base_uri": "https://localhost:8080/",
          "height": 63
        }
      },
      "source": [
        "import tensorflow as tf\n",
        "import tensorflow_datasets as tfds\n",
        "import pprint"
      ],
      "execution_count": 0,
      "outputs": [
        {
          "output_type": "display_data",
          "data": {
            "text/html": [
              "<p style=\"color: red;\">\n",
              "The default version of TensorFlow in Colab will soon switch to TensorFlow 2.x.<br>\n",
              "We recommend you <a href=\"https://www.tensorflow.org/guide/migrate\" target=\"_blank\">upgrade</a> now \n",
              "or ensure your notebook will continue to use TensorFlow 1.x via the <code>%tensorflow_version 1.x</code> magic:\n",
              "<a href=\"https://colab.research.google.com/notebooks/tensorflow_version.ipynb\" target=\"_blank\">more info</a>.</p>\n"
            ],
            "text/plain": [
              "<IPython.core.display.HTML object>"
            ]
          },
          "metadata": {
            "tags": []
          }
        }
      ]
    },
    {
      "cell_type": "markdown",
      "metadata": {
        "id": "6nMGl52y-wAO",
        "colab_type": "text"
      },
      "source": [
        "# Ex1. iris dataset"
      ]
    },
    {
      "cell_type": "markdown",
      "metadata": {
        "id": "nEfmCRbJ5M4G",
        "colab_type": "text"
      },
      "source": [
        "## read data"
      ]
    },
    {
      "cell_type": "code",
      "metadata": {
        "id": "9Av4lut348Xt",
        "colab_type": "code",
        "colab": {}
      },
      "source": [
        "boston = load_boston()\n",
        "df = pd.DataFrame(boston.data, columns=boston.feature_names)\n",
        "target = boston.target"
      ],
      "execution_count": 0,
      "outputs": []
    },
    {
      "cell_type": "code",
      "metadata": {
        "id": "p0x5IHZH5UT5",
        "colab_type": "code",
        "colab": {}
      },
      "source": [
        "X = df\n",
        "y = target"
      ],
      "execution_count": 0,
      "outputs": []
    },
    {
      "cell_type": "markdown",
      "metadata": {
        "id": "1YzKK2Qi5a6M",
        "colab_type": "text"
      },
      "source": [
        "## optimazation"
      ]
    },
    {
      "cell_type": "code",
      "metadata": {
        "id": "tiIELz9d5WY8",
        "colab_type": "code",
        "colab": {}
      },
      "source": [
        "# 最小化したい関数\n",
        "def func(trial):\n",
        "  print('')\n",
        "  params = {\n",
        "      'n_estimators': int(trial.suggest_loguniform('n_estimators', 10, 1000)),\n",
        "      'max_depth': trial.suggest_int('max_depth', 5, 300)\n",
        "  }\n",
        "\n",
        "  X_train, X_valid, y_train, y_valid = train_test_split(X, y, test_size = 0.2, random_state = 42)\n",
        "  model = RandomForestRegressor(**params)\n",
        "  model.fit(X_train, y_train)\n",
        "  y_valid_pred = model.predict(X_valid)\n",
        "  return mean_absolute_error(y_valid, y_valid_pred)\n",
        "\n"
      ],
      "execution_count": 0,
      "outputs": []
    },
    {
      "cell_type": "code",
      "metadata": {
        "id": "cV9kJUg55zei",
        "colab_type": "code",
        "outputId": "7d5fd581-1ea2-4df7-e6c8-624f8930b0e3",
        "colab": {
          "base_uri": "https://localhost:8080/",
          "height": 428
        }
      },
      "source": [
        "study = optuna.create_study()\n",
        "study.optimize(func, n_trials = 10)\n",
        "print(study.best_trial)\n",
        "print(f'\\n best_params = {study.best_params}')"
      ],
      "execution_count": 0,
      "outputs": [
        {
          "output_type": "stream",
          "text": [
            "\n"
          ],
          "name": "stdout"
        },
        {
          "output_type": "stream",
          "text": [
            "\u001b[32m[I 2020-02-17 04:51:10,551]\u001b[0m Finished trial#0 resulted in value: 2.1854509803921576. Current best value is 2.1854509803921576 with parameters: {'n_estimators': 25.453803398774163, 'max_depth': 182}.\u001b[0m\n",
            "\u001b[32m[I 2020-02-17 04:51:10,729]\u001b[0m Finished trial#1 resulted in value: 2.1707749766573294. Current best value is 2.1707749766573294 with parameters: {'n_estimators': 21.620514370427415, 'max_depth': 132}.\u001b[0m\n"
          ],
          "name": "stderr"
        },
        {
          "output_type": "stream",
          "text": [
            "\n",
            "\n"
          ],
          "name": "stdout"
        },
        {
          "output_type": "stream",
          "text": [
            "\u001b[32m[I 2020-02-17 04:51:11,470]\u001b[0m Finished trial#2 resulted in value: 2.071349206349205. Current best value is 2.071349206349205 with parameters: {'n_estimators': 210.79079669723927, 'max_depth': 33}.\u001b[0m\n"
          ],
          "name": "stderr"
        },
        {
          "output_type": "stream",
          "text": [
            "\n"
          ],
          "name": "stdout"
        },
        {
          "output_type": "stream",
          "text": [
            "\u001b[32m[I 2020-02-17 04:51:12,670]\u001b[0m Finished trial#3 resulted in value: 2.0561774971768796. Current best value is 2.0561774971768796 with parameters: {'n_estimators': 382.40220989832966, 'max_depth': 156}.\u001b[0m\n",
            "\u001b[32m[I 2020-02-17 04:51:12,850]\u001b[0m Finished trial#4 resulted in value: 2.0369747899159663. Current best value is 2.0369747899159663 with parameters: {'n_estimators': 21.36501739317492, 'max_depth': 219}.\u001b[0m\n"
          ],
          "name": "stderr"
        },
        {
          "output_type": "stream",
          "text": [
            "\n"
          ],
          "name": "stdout"
        },
        {
          "output_type": "stream",
          "text": [
            "\u001b[32m[I 2020-02-17 04:51:13,779]\u001b[0m Finished trial#5 resulted in value: 2.066670205988533. Current best value is 2.0369747899159663 with parameters: {'n_estimators': 21.36501739317492, 'max_depth': 219}.\u001b[0m\n"
          ],
          "name": "stderr"
        },
        {
          "output_type": "stream",
          "text": [
            "\n",
            "\n"
          ],
          "name": "stdout"
        },
        {
          "output_type": "stream",
          "text": [
            "\u001b[32m[I 2020-02-17 04:51:14,144]\u001b[0m Finished trial#6 resulted in value: 2.0514363885088915. Current best value is 2.0369747899159663 with parameters: {'n_estimators': 21.36501739317492, 'max_depth': 219}.\u001b[0m\n",
            "\u001b[32m[I 2020-02-17 04:51:14,311]\u001b[0m Finished trial#7 resulted in value: 2.063235294117647. Current best value is 2.0369747899159663 with parameters: {'n_estimators': 21.36501739317492, 'max_depth': 219}.\u001b[0m\n"
          ],
          "name": "stderr"
        },
        {
          "output_type": "stream",
          "text": [
            "\n",
            "\n"
          ],
          "name": "stdout"
        },
        {
          "output_type": "stream",
          "text": [
            "\u001b[32m[I 2020-02-17 04:51:14,475]\u001b[0m Finished trial#8 resulted in value: 2.1994809688581314. Current best value is 2.0369747899159663 with parameters: {'n_estimators': 21.36501739317492, 'max_depth': 219}.\u001b[0m\n"
          ],
          "name": "stderr"
        },
        {
          "output_type": "stream",
          "text": [
            "\n"
          ],
          "name": "stdout"
        },
        {
          "output_type": "stream",
          "text": [
            "\u001b[32m[I 2020-02-17 04:51:15,275]\u001b[0m Finished trial#9 resulted in value: 2.0623561821422762. Current best value is 2.0369747899159663 with parameters: {'n_estimators': 21.36501739317492, 'max_depth': 219}.\u001b[0m\n"
          ],
          "name": "stderr"
        },
        {
          "output_type": "stream",
          "text": [
            "FrozenTrial(number=4, value=2.0369747899159663, datetime_start=datetime.datetime(2020, 2, 17, 4, 51, 12, 671955), datetime_complete=datetime.datetime(2020, 2, 17, 4, 51, 12, 849996), params={'n_estimators': 21.36501739317492, 'max_depth': 219}, distributions={'n_estimators': LogUniformDistribution(high=1000, low=10), 'max_depth': IntUniformDistribution(high=300, low=5)}, user_attrs={}, system_attrs={'_number': 4}, intermediate_values={}, trial_id=4, state=TrialState.COMPLETE)\n",
            "\n",
            " best_params = {'n_estimators': 21.36501739317492, 'max_depth': 219}\n"
          ],
          "name": "stdout"
        }
      ]
    },
    {
      "cell_type": "markdown",
      "metadata": {
        "id": "ogaXt6RB-5ub",
        "colab_type": "text"
      },
      "source": [
        "# Ex2. Cifir-10"
      ]
    },
    {
      "cell_type": "markdown",
      "metadata": {
        "id": "ywOSjjW-L-So",
        "colab_type": "text"
      },
      "source": [
        "## read data"
      ]
    },
    {
      "cell_type": "code",
      "metadata": {
        "id": "HtyN_DZpKYe6",
        "colab_type": "code",
        "outputId": "6f9197d4-e231-4ea5-d65a-9bac1081fff9",
        "colab": {
          "base_uri": "https://localhost:8080/",
          "height": 68
        }
      },
      "source": [
        "from keras.datasets import cifar10\n",
        "(x_train, y_train), (x_test, y_test) = cifar10.load_data()"
      ],
      "execution_count": 0,
      "outputs": [
        {
          "output_type": "stream",
          "text": [
            "Using TensorFlow backend.\n"
          ],
          "name": "stderr"
        },
        {
          "output_type": "stream",
          "text": [
            "Downloading data from https://www.cs.toronto.edu/~kriz/cifar-10-python.tar.gz\n",
            "170500096/170498071 [==============================] - 2s 0us/step\n"
          ],
          "name": "stdout"
        }
      ]
    },
    {
      "cell_type": "code",
      "metadata": {
        "id": "BlDEugLLKiOL",
        "colab_type": "code",
        "outputId": "5ecf7692-21e7-4db6-ec76-549bb8dd7fc6",
        "colab": {
          "base_uri": "https://localhost:8080/",
          "height": 504
        }
      },
      "source": [
        "cifar10_labels = [\n",
        "    'airplane',\n",
        "    'automobile',\n",
        "    'bird',\n",
        "    'cat',\n",
        "    'deer',\n",
        "    'dog',\n",
        "    'frog',\n",
        "    'horse',\n",
        "    'ship',\n",
        "    'truck'\n",
        "]\n",
        "\n",
        "plt.figure(figsize=(12,10))\n",
        "for index, img in enumerate(x_train[:30]):\n",
        "  plt.subplot(3, 10, index+1)\n",
        "  plt.imshow(img)\n",
        "  plt.axis(\"off\")\n",
        "  plt.title(cifar10_labels[y_train[index][0]])\n",
        "\n",
        "plt.show"
      ],
      "execution_count": 0,
      "outputs": [
        {
          "output_type": "execute_result",
          "data": {
            "text/plain": [
              "<function matplotlib.pyplot.show>"
            ]
          },
          "metadata": {
            "tags": []
          },
          "execution_count": 9
        },
        {
          "output_type": "display_data",
          "data": {
            "image/png": "[encoded data removed]",
            "text/plain": [
              "<Figure size 864x720 with 30 Axes>"
            ]
          },
          "metadata": {
            "tags": []
          }
        }
      ]
    },
    {
      "cell_type": "code",
      "metadata": {
        "id": "thYF3GxJgXWH",
        "colab_type": "code",
        "colab": {}
      },
      "source": [
        "from keras import utils\n",
        "#画像を0-1の範囲で正規化\n",
        "x_train = x_train.astype('float32')/255.0\n",
        "x_test = x_test.astype('float32')/255.0\n",
        "\n",
        "#正解ラベルをOne-Hot表現に変換\n",
        "y_train = utils.to_categorical(y_train, 10)\n",
        "y_test = utils.to_categorical(y_test, 10)"
      ],
      "execution_count": 0,
      "outputs": []
    },
    {
      "cell_type": "code",
      "metadata": {
        "id": "zltm80nsbjzs",
        "colab_type": "code",
        "outputId": "8e9058f8-dcc6-4e2f-ad12-7572d727fa7d",
        "colab": {
          "base_uri": "https://localhost:8080/",
          "height": 34
        }
      },
      "source": [
        "x_train.shape[1:],x_train.shape"
      ],
      "execution_count": 0,
      "outputs": [
        {
          "output_type": "execute_result",
          "data": {
            "text/plain": [
              "((32, 32, 3), (50000, 32, 32, 3))"
            ]
          },
          "metadata": {
            "tags": []
          },
          "execution_count": 11
        }
      ]
    },
    {
      "cell_type": "markdown",
      "metadata": {
        "id": "4ByTldSTgBUO",
        "colab_type": "text"
      },
      "source": [
        "## まず普通にやってcnnが学習するのかテスト"
      ]
    },
    {
      "cell_type": "code",
      "metadata": {
        "id": "MDjSYF8IgJiZ",
        "colab_type": "code",
        "outputId": "018520c6-5eec-4786-d1c5-86823adde755",
        "colab": {
          "base_uri": "https://localhost:8080/",
          "height": 1000
        }
      },
      "source": [
        "from keras.models import Sequential\n",
        "from keras.layers.convolutional import Conv2D\n",
        "from keras.layers.pooling import MaxPool2D\n",
        "from keras.layers.core import Dense,Activation,Dropout,Flatten\n",
        "from keras.datasets import cifar10\n",
        "from keras.utils import np_utils\n",
        "\n",
        "#モデルを構築\n",
        "model=Sequential()\n",
        "\n",
        "model.add(Conv2D(32,(3,3),padding='same',input_shape=(32,32,3)))\n",
        "model.add(Activation('relu'))\n",
        "model.add(Conv2D(32,(3,3),padding='same'))\n",
        "model.add(Activation('relu'))\n",
        "model.add(MaxPool2D(pool_size=(2,2)))\n",
        "model.add(Dropout(0.25))\n",
        "\n",
        "model.add(Conv2D(64,(3,3),padding='same'))\n",
        "model.add(Activation('relu'))\n",
        "model.add(Conv2D(64,(3,3),padding='same'))\n",
        "model.add(Activation('relu'))\n",
        "model.add(MaxPool2D(pool_size=(2,2)))\n",
        "model.add(Dropout(0.25))\n",
        "\n",
        "model.add(Flatten())\n",
        "model.add(Dense(512))\n",
        "model.add(Activation('relu'))\n",
        "model.add(Dropout(0.5))\n",
        "model.add(Dense(10,activation='softmax'))\n",
        "\n",
        "model.compile(optimizer='adam',loss='categorical_crossentropy',metrics=['accuracy'])\n",
        "\n",
        "history=model.fit(x_train,y_train,batch_size=128,nb_epoch=20,verbose=1,validation_split=0.1)\n",
        "\n",
        "\n",
        "#モデルの表示\n",
        "model.summary()\n",
        "\n",
        "#評価\n",
        "score=model.evaluate(x_test,y_test,verbose=0)\n",
        "print('Test loss:',score[0])\n",
        "print('Test accuracy:',score[1])"
      ],
      "execution_count": 0,
      "outputs": [
        {
          "output_type": "stream",
          "text": [
            "Train on 45000 samples, validate on 5000 samples\n",
            "Epoch 1/20\n",
            "45000/45000 [==============================] - 6s 139us/step - loss: 1.6367 - acc: 0.4016 - val_loss: 1.2942 - val_acc: 0.5408\n",
            "Epoch 2/20\n",
            "45000/45000 [==============================] - 5s 119us/step - loss: 1.2170 - acc: 0.5646 - val_loss: 1.0275 - val_acc: 0.6492\n",
            "Epoch 3/20\n",
            "45000/45000 [==============================] - 5s 119us/step - loss: 1.0333 - acc: 0.6336 - val_loss: 0.9340 - val_acc: 0.6724\n",
            "Epoch 4/20\n",
            "45000/45000 [==============================] - 5s 120us/step - loss: 0.9171 - acc: 0.6756 - val_loss: 0.8072 - val_acc: 0.7222\n",
            "Epoch 5/20\n",
            "45000/45000 [==============================] - 5s 121us/step - loss: 0.8357 - acc: 0.7061 - val_loss: 0.7518 - val_acc: 0.7458\n",
            "Epoch 6/20\n",
            "45000/45000 [==============================] - 5s 119us/step - loss: 0.7748 - acc: 0.7282 - val_loss: 0.7147 - val_acc: 0.7518\n",
            "Epoch 7/20\n",
            "45000/45000 [==============================] - 5s 120us/step - loss: 0.7101 - acc: 0.7496 - val_loss: 0.7104 - val_acc: 0.7602\n",
            "Epoch 8/20\n",
            "45000/45000 [==============================] - 5s 119us/step - loss: 0.6595 - acc: 0.7679 - val_loss: 0.6694 - val_acc: 0.7680\n",
            "Epoch 9/20\n",
            "45000/45000 [==============================] - 5s 119us/step - loss: 0.6200 - acc: 0.7804 - val_loss: 0.6571 - val_acc: 0.7710\n",
            "Epoch 10/20\n",
            "45000/45000 [==============================] - 5s 121us/step - loss: 0.5761 - acc: 0.7964 - val_loss: 0.6421 - val_acc: 0.7808\n",
            "Epoch 11/20\n",
            "45000/45000 [==============================] - 5s 122us/step - loss: 0.5438 - acc: 0.8063 - val_loss: 0.6396 - val_acc: 0.7806\n",
            "Epoch 12/20\n",
            "45000/45000 [==============================] - 5s 119us/step - loss: 0.5124 - acc: 0.8172 - val_loss: 0.6262 - val_acc: 0.7878\n",
            "Epoch 13/20\n",
            "45000/45000 [==============================] - 5s 120us/step - loss: 0.4814 - acc: 0.8292 - val_loss: 0.6339 - val_acc: 0.7934\n",
            "Epoch 14/20\n",
            "45000/45000 [==============================] - 5s 119us/step - loss: 0.4516 - acc: 0.8368 - val_loss: 0.6273 - val_acc: 0.7936\n",
            "Epoch 15/20\n",
            "45000/45000 [==============================] - 5s 121us/step - loss: 0.4333 - acc: 0.8447 - val_loss: 0.6545 - val_acc: 0.7896\n",
            "Epoch 16/20\n",
            "45000/45000 [==============================] - 5s 120us/step - loss: 0.4142 - acc: 0.8513 - val_loss: 0.6461 - val_acc: 0.7878\n",
            "Epoch 17/20\n",
            "45000/45000 [==============================] - 5s 119us/step - loss: 0.3960 - acc: 0.8581 - val_loss: 0.6471 - val_acc: 0.7888\n",
            "Epoch 18/20\n",
            "45000/45000 [==============================] - 5s 120us/step - loss: 0.3735 - acc: 0.8667 - val_loss: 0.6565 - val_acc: 0.7920\n",
            "Epoch 19/20\n",
            "45000/45000 [==============================] - 5s 119us/step - loss: 0.3673 - acc: 0.8690 - val_loss: 0.6653 - val_acc: 0.7892\n",
            "Epoch 20/20\n",
            "45000/45000 [==============================] - 5s 119us/step - loss: 0.3449 - acc: 0.8774 - val_loss: 0.6410 - val_acc: 0.7980\n",
            "Model: \"sequential_5\"\n",
            "_________________________________________________________________\n",
            "Layer (type)                 Output Shape              Param #   \n",
            "=================================================================\n",
            "conv2d_15 (Conv2D)           (None, 32, 32, 32)        896       \n",
            "_________________________________________________________________\n",
            "activation_5 (Activation)    (None, 32, 32, 32)        0         \n",
            "_________________________________________________________________\n",
            "conv2d_16 (Conv2D)           (None, 32, 32, 32)        9248      \n",
            "_________________________________________________________________\n",
            "activation_6 (Activation)    (None, 32, 32, 32)        0         \n",
            "_________________________________________________________________\n",
            "max_pooling2d_3 (MaxPooling2 (None, 16, 16, 32)        0         \n",
            "_________________________________________________________________\n",
            "dropout_8 (Dropout)          (None, 16, 16, 32)        0         \n",
            "_________________________________________________________________\n",
            "conv2d_17 (Conv2D)           (None, 16, 16, 64)        18496     \n",
            "_________________________________________________________________\n",
            "activation_7 (Activation)    (None, 16, 16, 64)        0         \n",
            "_________________________________________________________________\n",
            "conv2d_18 (Conv2D)           (None, 16, 16, 64)        36928     \n",
            "_________________________________________________________________\n",
            "activation_8 (Activation)    (None, 16, 16, 64)        0         \n",
            "_________________________________________________________________\n",
            "max_pooling2d_4 (MaxPooling2 (None, 8, 8, 64)          0         \n",
            "_________________________________________________________________\n",
            "dropout_9 (Dropout)          (None, 8, 8, 64)          0         \n",
            "_________________________________________________________________\n",
            "flatten_3 (Flatten)          (None, 4096)              0         \n",
            "_________________________________________________________________\n",
            "dense_5 (Dense)              (None, 512)               2097664   \n",
            "_________________________________________________________________\n",
            "activation_9 (Activation)    (None, 512)               0         \n",
            "_________________________________________________________________\n",
            "dropout_10 (Dropout)         (None, 512)               0         \n",
            "_________________________________________________________________\n",
            "dense_6 (Dense)              (None, 10)                5130      \n",
            "=================================================================\n",
            "Total params: 2,168,362\n",
            "Trainable params: 2,168,362\n",
            "Non-trainable params: 0\n",
            "_________________________________________________________________\n",
            "Test loss: 0.6807138298988342\n",
            "Test accuracy: 0.7863\n"
          ],
          "name": "stdout"
        }
      ]
    },
    {
      "cell_type": "markdown",
      "metadata": {
        "id": "0WOhRZ5kiMuC",
        "colab_type": "text"
      },
      "source": [
        "学習できている"
      ]
    },
    {
      "cell_type": "markdown",
      "metadata": {
        "id": "5S3xI3AKMSjX",
        "colab_type": "text"
      },
      "source": [
        "## optimization"
      ]
    },
    {
      "cell_type": "markdown",
      "metadata": {
        "id": "OI65SQ4YdEUU",
        "colab_type": "text"
      },
      "source": [
        "#### define model"
      ]
    },
    {
      "cell_type": "code",
      "metadata": {
        "id": "5z3JW0hlf7Cg",
        "colab_type": "code",
        "colab": {}
      },
      "source": [
        "from keras.models import Sequential\n",
        "from keras.layers import Dense, Dropout, Flatten\n",
        "from keras.layers import Conv2D, MaxPooling2D\n",
        "from keras.optimizers import SGD\n",
        "\n",
        "def make_model(num_layer,activation,conv):\n",
        "  model = Sequential()\n",
        "  model.add(Conv2D(32, (3, 3), padding='same', activation=activation, input_shape=(32, 32, 3)))\n",
        "  model.add(Conv2D(32, (3, 3), padding='same', activation=activation))\n",
        "  model.add(MaxPooling2D(pool_size=(2, 2)))\n",
        "  model.add(Dropout(0.25))\n",
        "  \n",
        "  for i in range(num_layer):\n",
        "    model.add(Conv2D(conv, (3, 3), padding='same', activation=activation))\n",
        "    model.add(Conv2D(conv, (3, 3), padding='same', activation=activation))\n",
        "    model.add(Dropout(0.25))\n",
        "\n",
        "  model.add(Flatten())\n",
        "  model.add(Dense(256, activation=activation))\n",
        "  model.add(Dropout(0.5))\n",
        "  model.add(Dense(10, activation='softmax'))\n",
        "\n",
        "  return model"
      ],
      "execution_count": 0,
      "outputs": []
    },
    {
      "cell_type": "code",
      "metadata": {
        "id": "tsvUDqj1c-xm",
        "colab_type": "code",
        "colab": {}
      },
      "source": [
        "def objective(trial):\n",
        "\n",
        "    #最適化するパラメータの設定\n",
        "    #畳込み層の数\n",
        "    num_layer = trial.suggest_int(\"num_layer\", 1, 3)\n",
        "\n",
        "    #FC層のユニット数\n",
        "    conv = int(trial.suggest_discrete_uniform(\"conv\", 16, 64, 8))\n",
        "\n",
        "    #各畳込み層のフィルタ数\n",
        "    #num_filters = [int(trial.suggest_discrete_uniform(\"num_filter_\"+str(i), 16, 128, 16)) for i in range(num_layer)]\n",
        "\n",
        "    #活性化関数\n",
        "    activation = trial.suggest_categorical(\"activation\", [\"relu\", \"sigmoid\", \"tanh\"])\n",
        "\n",
        "    #optimizer\n",
        "    optimizer = trial.suggest_categorical(\"optimizer\", [\"sgd\", \"adam\", \"rmsprop\"])\n",
        "\n",
        "    #model = create_model(num_layer, activation, mid_units, num_filters)\n",
        "    model = make_model(num_layer,activation,conv)\n",
        "    model.compile(optimizer=optimizer,\n",
        "          loss=\"categorical_crossentropy\",\n",
        "          metrics=[\"accuracy\"])\n",
        "\n",
        "    history = model.fit(x_train, y_train, verbose=0, epochs=20, batch_size=128, validation_split=0.1)\n",
        "\n",
        "    #検証用データに対する正答率が最大となるハイパーパラメータを求める\n",
        "    return 1 - history.history[\"val_acc\"][-1]"
      ],
      "execution_count": 0,
      "outputs": []
    },
    {
      "cell_type": "code",
      "metadata": {
        "id": "kQUEMLjLdXty",
        "colab_type": "code",
        "outputId": "b7616ca8-2d84-4ce0-9126-2aab144e58aa",
        "colab": {
          "base_uri": "https://localhost:8080/",
          "height": 207
        }
      },
      "source": [
        "study = optuna.create_study()\n",
        "study.optimize(objective, n_trials=10)"
      ],
      "execution_count": 0,
      "outputs": [
        {
          "output_type": "stream",
          "text": [
            "\u001b[32m[I 2020-02-17 05:22:08,467]\u001b[0m Finished trial#0 resulted in value: 0.8936. Current best value is 0.8936 with parameters: {'num_layer': 3, 'conv': 40.0, 'activation': 'tanh', 'optimizer': 'rmsprop'}.\u001b[0m\n",
            "\u001b[32m[I 2020-02-17 05:25:06,191]\u001b[0m Finished trial#1 resulted in value: 0.33520000000000005. Current best value is 0.33520000000000005 with parameters: {'num_layer': 3, 'conv': 64.0, 'activation': 'tanh', 'optimizer': 'sgd'}.\u001b[0m\n",
            "\u001b[32m[I 2020-02-17 05:26:31,326]\u001b[0m Finished trial#2 resulted in value: 0.25. Current best value is 0.25 with parameters: {'num_layer': 1, 'conv': 16.0, 'activation': 'relu', 'optimizer': 'adam'}.\u001b[0m\n",
            "\u001b[32m[I 2020-02-17 05:29:17,684]\u001b[0m Finished trial#3 resulted in value: 0.905. Current best value is 0.25 with parameters: {'num_layer': 1, 'conv': 16.0, 'activation': 'relu', 'optimizer': 'adam'}.\u001b[0m\n",
            "\u001b[32m[I 2020-02-17 05:32:15,806]\u001b[0m Finished trial#4 resulted in value: 0.40080000000000005. Current best value is 0.25 with parameters: {'num_layer': 1, 'conv': 16.0, 'activation': 'relu', 'optimizer': 'adam'}.\u001b[0m\n",
            "\u001b[32m[I 2020-02-17 05:34:38,730]\u001b[0m Finished trial#5 resulted in value: 0.354. Current best value is 0.25 with parameters: {'num_layer': 1, 'conv': 16.0, 'activation': 'relu', 'optimizer': 'adam'}.\u001b[0m\n",
            "\u001b[32m[I 2020-02-17 05:37:01,657]\u001b[0m Finished trial#6 resulted in value: 0.3396. Current best value is 0.25 with parameters: {'num_layer': 1, 'conv': 16.0, 'activation': 'relu', 'optimizer': 'adam'}.\u001b[0m\n",
            "\u001b[32m[I 2020-02-17 05:38:43,778]\u001b[0m Finished trial#7 resulted in value: 0.2782. Current best value is 0.25 with parameters: {'num_layer': 1, 'conv': 16.0, 'activation': 'relu', 'optimizer': 'adam'}.\u001b[0m\n",
            "\u001b[32m[I 2020-02-17 05:40:11,687]\u001b[0m Finished trial#8 resulted in value: 0.3668. Current best value is 0.25 with parameters: {'num_layer': 1, 'conv': 16.0, 'activation': 'relu', 'optimizer': 'adam'}.\u001b[0m\n",
            "\u001b[32m[I 2020-02-17 05:42:13,191]\u001b[0m Finished trial#9 resulted in value: 0.22560000000000002. Current best value is 0.22560000000000002 with parameters: {'num_layer': 1, 'conv': 56.0, 'activation': 'relu', 'optimizer': 'adam'}.\u001b[0m\n"
          ],
          "name": "stderr"
        }
      ]
    },
    {
      "cell_type": "code",
      "metadata": {
        "id": "JNSGq37Bohsh",
        "colab_type": "code",
        "outputId": "f0d0f2ad-c0d3-43b3-dea7-447fbbf5da51",
        "colab": {
          "base_uri": "https://localhost:8080/",
          "height": 359
        }
      },
      "source": [
        "# 探索の履歴の可視化\n",
        "df=study.trials_dataframe()\n",
        "df"
      ],
      "execution_count": 0,
      "outputs": [
        {
          "output_type": "execute_result",
          "data": {
            "text/html": [
              "<div>\n",
              "<style scoped>\n",
              "    .dataframe tbody tr th:only-of-type {\n",
              "        vertical-align: middle;\n",
              "    }\n",
              "\n",
              "    .dataframe tbody tr th {\n",
              "        vertical-align: top;\n",
              "    }\n",
              "\n",
              "    .dataframe thead th {\n",
              "        text-align: right;\n",
              "    }\n",
              "</style>\n",
              "<table border=\"1\" class=\"dataframe\">\n",
              "  <thead>\n",
              "    <tr style=\"text-align: right;\">\n",
              "      <th></th>\n",
              "      <th>number</th>\n",
              "      <th>value</th>\n",
              "      <th>datetime_start</th>\n",
              "      <th>datetime_complete</th>\n",
              "      <th>params_activation</th>\n",
              "      <th>params_conv</th>\n",
              "      <th>params_num_layer</th>\n",
              "      <th>params_optimizer</th>\n",
              "      <th>system_attrs__number</th>\n",
              "      <th>state</th>\n",
              "    </tr>\n",
              "  </thead>\n",
              "  <tbody>\n",
              "    <tr>\n",
              "      <th>0</th>\n",
              "      <td>0</td>\n",
              "      <td>0.8936</td>\n",
              "      <td>2020-02-17 05:19:41.567467</td>\n",
              "      <td>2020-02-17 05:22:08.466788</td>\n",
              "      <td>tanh</td>\n",
              "      <td>40.0</td>\n",
              "      <td>3</td>\n",
              "      <td>rmsprop</td>\n",
              "      <td>0</td>\n",
              "      <td>COMPLETE</td>\n",
              "    </tr>\n",
              "    <tr>\n",
              "      <th>1</th>\n",
              "      <td>1</td>\n",
              "      <td>0.3352</td>\n",
              "      <td>2020-02-17 05:22:08.468312</td>\n",
              "      <td>2020-02-17 05:25:06.190833</td>\n",
              "      <td>tanh</td>\n",
              "      <td>64.0</td>\n",
              "      <td>3</td>\n",
              "      <td>sgd</td>\n",
              "      <td>1</td>\n",
              "      <td>COMPLETE</td>\n",
              "    </tr>\n",
              "    <tr>\n",
              "      <th>2</th>\n",
              "      <td>2</td>\n",
              "      <td>0.2500</td>\n",
              "      <td>2020-02-17 05:25:06.192303</td>\n",
              "      <td>2020-02-17 05:26:31.326143</td>\n",
              "      <td>relu</td>\n",
              "      <td>16.0</td>\n",
              "      <td>1</td>\n",
              "      <td>adam</td>\n",
              "      <td>2</td>\n",
              "      <td>COMPLETE</td>\n",
              "    </tr>\n",
              "    <tr>\n",
              "      <th>3</th>\n",
              "      <td>3</td>\n",
              "      <td>0.9050</td>\n",
              "      <td>2020-02-17 05:26:31.327572</td>\n",
              "      <td>2020-02-17 05:29:17.684003</td>\n",
              "      <td>sigmoid</td>\n",
              "      <td>56.0</td>\n",
              "      <td>3</td>\n",
              "      <td>sgd</td>\n",
              "      <td>3</td>\n",
              "      <td>COMPLETE</td>\n",
              "    </tr>\n",
              "    <tr>\n",
              "      <th>4</th>\n",
              "      <td>4</td>\n",
              "      <td>0.4008</td>\n",
              "      <td>2020-02-17 05:29:17.685403</td>\n",
              "      <td>2020-02-17 05:32:15.806236</td>\n",
              "      <td>relu</td>\n",
              "      <td>64.0</td>\n",
              "      <td>3</td>\n",
              "      <td>sgd</td>\n",
              "      <td>4</td>\n",
              "      <td>COMPLETE</td>\n",
              "    </tr>\n",
              "    <tr>\n",
              "      <th>5</th>\n",
              "      <td>5</td>\n",
              "      <td>0.3540</td>\n",
              "      <td>2020-02-17 05:32:15.810277</td>\n",
              "      <td>2020-02-17 05:34:38.730367</td>\n",
              "      <td>tanh</td>\n",
              "      <td>40.0</td>\n",
              "      <td>3</td>\n",
              "      <td>sgd</td>\n",
              "      <td>5</td>\n",
              "      <td>COMPLETE</td>\n",
              "    </tr>\n",
              "    <tr>\n",
              "      <th>6</th>\n",
              "      <td>6</td>\n",
              "      <td>0.3396</td>\n",
              "      <td>2020-02-17 05:34:38.731823</td>\n",
              "      <td>2020-02-17 05:37:01.656933</td>\n",
              "      <td>tanh</td>\n",
              "      <td>48.0</td>\n",
              "      <td>2</td>\n",
              "      <td>adam</td>\n",
              "      <td>6</td>\n",
              "      <td>COMPLETE</td>\n",
              "    </tr>\n",
              "    <tr>\n",
              "      <th>7</th>\n",
              "      <td>7</td>\n",
              "      <td>0.2782</td>\n",
              "      <td>2020-02-17 05:37:01.658932</td>\n",
              "      <td>2020-02-17 05:38:43.778314</td>\n",
              "      <td>relu</td>\n",
              "      <td>16.0</td>\n",
              "      <td>3</td>\n",
              "      <td>adam</td>\n",
              "      <td>7</td>\n",
              "      <td>COMPLETE</td>\n",
              "    </tr>\n",
              "    <tr>\n",
              "      <th>8</th>\n",
              "      <td>8</td>\n",
              "      <td>0.3668</td>\n",
              "      <td>2020-02-17 05:38:43.779873</td>\n",
              "      <td>2020-02-17 05:40:11.686735</td>\n",
              "      <td>tanh</td>\n",
              "      <td>16.0</td>\n",
              "      <td>2</td>\n",
              "      <td>sgd</td>\n",
              "      <td>8</td>\n",
              "      <td>COMPLETE</td>\n",
              "    </tr>\n",
              "    <tr>\n",
              "      <th>9</th>\n",
              "      <td>9</td>\n",
              "      <td>0.2256</td>\n",
              "      <td>2020-02-17 05:40:11.688268</td>\n",
              "      <td>2020-02-17 05:42:13.191510</td>\n",
              "      <td>relu</td>\n",
              "      <td>56.0</td>\n",
              "      <td>1</td>\n",
              "      <td>adam</td>\n",
              "      <td>9</td>\n",
              "      <td>COMPLETE</td>\n",
              "    </tr>\n",
              "  </tbody>\n",
              "</table>\n",
              "</div>"
            ],
            "text/plain": [
              "   number   value  ... system_attrs__number     state\n",
              "0       0  0.8936  ...                    0  COMPLETE\n",
              "1       1  0.3352  ...                    1  COMPLETE\n",
              "2       2  0.2500  ...                    2  COMPLETE\n",
              "3       3  0.9050  ...                    3  COMPLETE\n",
              "4       4  0.4008  ...                    4  COMPLETE\n",
              "5       5  0.3540  ...                    5  COMPLETE\n",
              "6       6  0.3396  ...                    6  COMPLETE\n",
              "7       7  0.2782  ...                    7  COMPLETE\n",
              "8       8  0.3668  ...                    8  COMPLETE\n",
              "9       9  0.2256  ...                    9  COMPLETE\n",
              "\n",
              "[10 rows x 10 columns]"
            ]
          },
          "metadata": {
            "tags": []
          },
          "execution_count": 37
        }
      ]
    },
    {
      "cell_type": "markdown",
      "metadata": {
        "id": "dHReYt30KZvN",
        "colab_type": "text"
      },
      "source": [
        "## result\n",
        "求めたパラメータで実際に学習させて、うまく学習するか確かめる。"
      ]
    },
    {
      "cell_type": "code",
      "metadata": {
        "id": "RYhtrmFkLDNv",
        "colab_type": "code",
        "outputId": "cfaa9b4c-fcf2-4277-8795-4694b7fd92e0",
        "colab": {
          "base_uri": "https://localhost:8080/",
          "height": 34
        }
      },
      "source": [
        "print(study.best_params)"
      ],
      "execution_count": 0,
      "outputs": [
        {
          "output_type": "stream",
          "text": [
            "{'num_layer': 1, 'conv': 56.0, 'activation': 'relu', 'optimizer': 'adam'}\n"
          ],
          "name": "stdout"
        }
      ]
    },
    {
      "cell_type": "code",
      "metadata": {
        "id": "ITrv4JG5LQoF",
        "colab_type": "code",
        "outputId": "ac849720-6be0-45f7-c753-c68d8ef56954",
        "colab": {
          "base_uri": "https://localhost:8080/",
          "height": 731
        }
      },
      "source": [
        "model = make_model(study.best_params[\"num_layer\"], study.best_params[\"activation\"], int(study.best_params[\"conv\"]))\n",
        "optimizer = study.best_params[\"optimizer\"]\n",
        "model.compile(optimizer=optimizer,loss=\"categorical_crossentropy\",metrics=[\"accuracy\"])\n",
        "model.fit(x_train, y_train, verbose=1, epochs=20, batch_size=128, validation_split=0.1)\n",
        "score = model.evaluate(x_test, y_test, batch_size=32)"
      ],
      "execution_count": 0,
      "outputs": [
        {
          "output_type": "stream",
          "text": [
            "Train on 45000 samples, validate on 5000 samples\n",
            "Epoch 1/20\n",
            "45000/45000 [==============================] - 9s 203us/step - loss: 1.6324 - acc: 0.4048 - val_loss: 1.3012 - val_acc: 0.5238\n",
            "Epoch 2/20\n",
            "45000/45000 [==============================] - 6s 135us/step - loss: 1.2690 - acc: 0.5456 - val_loss: 1.0506 - val_acc: 0.6326\n",
            "Epoch 3/20\n",
            "45000/45000 [==============================] - 6s 135us/step - loss: 1.1009 - acc: 0.6128 - val_loss: 0.9344 - val_acc: 0.6662\n",
            "Epoch 4/20\n",
            "45000/45000 [==============================] - 6s 135us/step - loss: 0.9853 - acc: 0.6537 - val_loss: 0.8543 - val_acc: 0.7068\n",
            "Epoch 5/20\n",
            "45000/45000 [==============================] - 6s 135us/step - loss: 0.8935 - acc: 0.6836 - val_loss: 0.8084 - val_acc: 0.7214\n",
            "Epoch 6/20\n",
            "45000/45000 [==============================] - 6s 136us/step - loss: 0.8198 - acc: 0.7117 - val_loss: 0.7771 - val_acc: 0.7270\n",
            "Epoch 7/20\n",
            "45000/45000 [==============================] - 6s 136us/step - loss: 0.7567 - acc: 0.7332 - val_loss: 0.7435 - val_acc: 0.7470\n",
            "Epoch 8/20\n",
            "45000/45000 [==============================] - 6s 136us/step - loss: 0.7008 - acc: 0.7536 - val_loss: 0.7344 - val_acc: 0.7468\n",
            "Epoch 9/20\n",
            "45000/45000 [==============================] - 6s 135us/step - loss: 0.6588 - acc: 0.7644 - val_loss: 0.7241 - val_acc: 0.7534\n",
            "Epoch 10/20\n",
            "45000/45000 [==============================] - 6s 137us/step - loss: 0.6082 - acc: 0.7837 - val_loss: 0.7225 - val_acc: 0.7604\n",
            "Epoch 11/20\n",
            "45000/45000 [==============================] - 6s 136us/step - loss: 0.5630 - acc: 0.7988 - val_loss: 0.7269 - val_acc: 0.7606\n",
            "Epoch 12/20\n",
            "45000/45000 [==============================] - 6s 135us/step - loss: 0.5281 - acc: 0.8112 - val_loss: 0.7088 - val_acc: 0.7686\n",
            "Epoch 13/20\n",
            "45000/45000 [==============================] - 6s 136us/step - loss: 0.4974 - acc: 0.8235 - val_loss: 0.7171 - val_acc: 0.7712\n",
            "Epoch 14/20\n",
            "45000/45000 [==============================] - 6s 136us/step - loss: 0.4671 - acc: 0.8322 - val_loss: 0.7493 - val_acc: 0.7570\n",
            "Epoch 15/20\n",
            "45000/45000 [==============================] - 6s 136us/step - loss: 0.4433 - acc: 0.8385 - val_loss: 0.7435 - val_acc: 0.7656\n",
            "Epoch 16/20\n",
            "45000/45000 [==============================] - 6s 138us/step - loss: 0.4182 - acc: 0.8498 - val_loss: 0.7616 - val_acc: 0.7742\n",
            "Epoch 17/20\n",
            "45000/45000 [==============================] - 6s 136us/step - loss: 0.4033 - acc: 0.8536 - val_loss: 0.7901 - val_acc: 0.7608\n",
            "Epoch 18/20\n",
            "45000/45000 [==============================] - 6s 136us/step - loss: 0.3804 - acc: 0.8622 - val_loss: 0.7836 - val_acc: 0.7666\n",
            "Epoch 19/20\n",
            "45000/45000 [==============================] - 6s 136us/step - loss: 0.3668 - acc: 0.8669 - val_loss: 0.7529 - val_acc: 0.7748\n",
            "Epoch 20/20\n",
            "45000/45000 [==============================] - 6s 138us/step - loss: 0.3504 - acc: 0.8706 - val_loss: 0.7831 - val_acc: 0.7758\n",
            "10000/10000 [==============================] - 1s 91us/step\n"
          ],
          "name": "stdout"
        }
      ]
    },
    {
      "cell_type": "code",
      "metadata": {
        "id": "iswtMqjokOPy",
        "colab_type": "code",
        "outputId": "d4a9ac09-a3c6-429b-de8f-b6e4262e7a37",
        "colab": {
          "base_uri": "https://localhost:8080/",
          "height": 51
        }
      },
      "source": [
        "print('Test loss:',score[0])\n",
        "print('Test accuracy:',score[1])"
      ],
      "execution_count": 0,
      "outputs": [
        {
          "output_type": "stream",
          "text": [
            "Test loss: 0.826516360282898\n",
            "Test accuracy: 0.7602\n"
          ],
          "name": "stdout"
        }
      ]
    },
    {
      "cell_type": "code",
      "metadata": {
        "id": "jjtv2nOglBUl",
        "colab_type": "code",
        "colab": {}
      },
      "source": [
        ""
      ],
      "execution_count": 0,
      "outputs": []
    }
  ]
}